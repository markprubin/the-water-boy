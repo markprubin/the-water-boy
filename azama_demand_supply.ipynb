{
 "cells": [
  {
   "cell_type": "markdown",
   "id": "978a3e5a-df18-419a-84d6-c5ac7031a6e0",
   "metadata": {},
   "source": [
    "# Arizona Active Management Area Data \n",
    "***\n",
    "#### Annual Supply and Demand\n",
    "We are going to take a look at the **water use** and **water supply** by sector and source on an annual basis."
   ]
  },
  {
   "cell_type": "code",
   "execution_count": null,
   "id": "3d7d5387-aa00-471c-8e17-9ebe10b87fcc",
   "metadata": {},
   "outputs": [],
   "source": [
    "import pandas as pd\n"
   ]
  }
 ],
 "metadata": {
  "kernelspec": {
   "display_name": "Python 3 (ipykernel)",
   "language": "python",
   "name": "python3"
  },
  "language_info": {
   "codemirror_mode": {
    "name": "ipython",
    "version": 3
   },
   "file_extension": ".py",
   "mimetype": "text/x-python",
   "name": "python",
   "nbconvert_exporter": "python",
   "pygments_lexer": "ipython3",
   "version": "3.11.4"
  }
 },
 "nbformat": 4,
 "nbformat_minor": 5
}
